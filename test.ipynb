{
 "cells": [
  {
   "cell_type": "code",
   "execution_count": null,
   "metadata": {},
   "outputs": [
    {
     "name": "stderr",
     "output_type": "stream",
     "text": [
      "c:\\Users\\SJ\\Documents\\SJ Stuff\\Projects\\character-relationship\\venv\\lib\\site-packages\\tqdm\\auto.py:21: TqdmWarning: IProgress not found. Please update jupyter and ipywidgets. See https://ipywidgets.readthedocs.io/en/stable/user_install.html\n",
      "  from .autonotebook import tqdm as notebook_tqdm\n",
      "c:\\Users\\SJ\\Documents\\SJ Stuff\\Projects\\character-relationship\\venv\\lib\\site-packages\\huggingface_hub\\file_download.py:142: UserWarning: `huggingface_hub` cache-system uses symlinks by default to efficiently store duplicated files but your machine does not support them in C:\\Users\\SJ\\.flair\\models\\ner-english\\models--flair--ner-english. Caching files will still work but in a degraded version that might require more space on your disk. This warning can be disabled by setting the `HF_HUB_DISABLE_SYMLINKS_WARNING` environment variable. For more details, see https://huggingface.co/docs/huggingface_hub/how-to-cache#limitations.\n",
      "To support symlinks on Windows, you either need to activate Developer Mode or to run Python as an administrator. In order to activate developer mode, see this article: https://docs.microsoft.com/en-us/windows/apps/get-started/enable-your-device-for-development\n",
      "  warnings.warn(message)\n"
     ]
    },
    {
     "name": "stdout",
     "output_type": "stream",
     "text": [
      "2025-03-13 15:08:45,061 SequenceTagger predicts: Dictionary with 20 tags: <unk>, O, S-ORG, S-MISC, B-PER, E-PER, S-LOC, B-ORG, E-ORG, I-PER, S-PER, B-MISC, I-MISC, E-MISC, I-ORG, B-LOC, E-LOC, I-LOC, <START>, <STOP>\n",
      "Sentence[12]: \"Sherlock Holmes told Watson that he should investigate the crime scene.\" → [\"Sherlock Holmes\"/PER, \"Watson\"/PER]\n",
      "Sentence[13]: \"Madison Clements sat two rows to my left and two seats back.\" → [\"Madison Clements\"/PER]\n",
      "Sentence[10]: \"I just put my books away and kept quiet.\"\n"
     ]
    }
   ],
   "source": [
    "from flair.nn import Classifier\n",
    "from flair.data import Sentence\n",
    "\n",
    "tagger = Classifier.load('ner')\n",
    "\n",
    "sentences = [\n",
    "    Sentence(\"Sherlock Holmes told Watson that he should investigate the crime scene.\"),\n",
    "    Sentence(\"Madison Clements sat two rows to my left and two seats back.\"),\n",
    "    Sentence(\"I just put my books away and kept quiet.\"),\n",
    "]"
   ]
  },
  {
   "cell_type": "code",
   "execution_count": null,
   "metadata": {},
   "outputs": [
    {
     "name": "stdout",
     "output_type": "stream",
     "text": [
      "Sentence[12]: \"Sherlock Holmes told Watson that he should investigate the crime scene.\" → [\"Sherlock Holmes\"/PER, \"Watson\"/PER]\n",
      "Sentence[12]: \"Sherlock Holmes told Watson that he should investigate the crime scene.\" → [\"Sherlock Holmes\"/PER, \"Watson\"/PER]\n",
      "Sentence[13]: \"Madison Clements sat two rows to my left and two seats back.\" → [\"Madison Clements\"/PER]\n",
      "Sentence[13]: \"Madison Clements sat two rows to my left and two seats back.\" → [\"Madison Clements\"/PER]\n",
      "Sentence[10]: \"I just put my books away and kept quiet.\"\n",
      "Sentence[10]: \"I just put my books away and kept quiet.\"\n"
     ]
    }
   ],
   "source": [
    "for sentence in sentences:\n",
    "    probs = tagger.predict(sentence)\n",
    "    # print(sentence)\n",
    "    print(sentence.to_tagged_string(\"ner\"))"
   ]
  },
  {
   "cell_type": "code",
   "execution_count": null,
   "metadata": {},
   "outputs": [
    {
     "data": {
      "text/plain": [
       "{'text': 'I just put my books away and kept quiet.',\n",
       " 'labels': [],\n",
       " 'entities': [],\n",
       " 'relations': [],\n",
       " 'tokens': [{'text': 'I', 'start_pos': 0, 'end_pos': 1, 'labels': []},\n",
       "  {'text': 'just', 'start_pos': 2, 'end_pos': 6, 'labels': []},\n",
       "  {'text': 'put', 'start_pos': 7, 'end_pos': 10, 'labels': []},\n",
       "  {'text': 'my', 'start_pos': 11, 'end_pos': 13, 'labels': []},\n",
       "  {'text': 'books', 'start_pos': 14, 'end_pos': 19, 'labels': []},\n",
       "  {'text': 'away', 'start_pos': 20, 'end_pos': 24, 'labels': []},\n",
       "  {'text': 'and', 'start_pos': 25, 'end_pos': 28, 'labels': []},\n",
       "  {'text': 'kept', 'start_pos': 29, 'end_pos': 33, 'labels': []},\n",
       "  {'text': 'quiet', 'start_pos': 34, 'end_pos': 39, 'labels': []},\n",
       "  {'text': '.', 'start_pos': 39, 'end_pos': 40, 'labels': []}]}"
      ]
     },
     "execution_count": 19,
     "metadata": {},
     "output_type": "execute_result"
    }
   ],
   "source": [
    "sentences[2]"
   ]
  }
 ],
 "metadata": {
  "kernelspec": {
   "display_name": "venv",
   "language": "python",
   "name": "python3"
  },
  "language_info": {
   "codemirror_mode": {
    "name": "ipython",
    "version": 3
   },
   "file_extension": ".py",
   "mimetype": "text/x-python",
   "name": "python",
   "nbconvert_exporter": "python",
   "pygments_lexer": "ipython3",
   "version": "3.10.11"
  }
 },
 "nbformat": 4,
 "nbformat_minor": 2
}
