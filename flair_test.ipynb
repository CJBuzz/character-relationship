{
 "cells": [
  {
   "cell_type": "code",
   "execution_count": null,
   "metadata": {},
   "outputs": [
    {
     "name": "stdout",
     "output_type": "stream",
     "text": [
      "2025-03-13 18:05:22,009 SequenceTagger predicts: Dictionary with 20 tags: <unk>, O, S-ORG, S-MISC, B-PER, E-PER, S-LOC, B-ORG, E-ORG, I-PER, S-PER, B-MISC, I-MISC, E-MISC, I-ORG, B-LOC, E-LOC, I-LOC, <START>, <STOP>\n",
      "2025-03-13 18:05:24,532 https://nlp.informatik.hu-berlin.de/resources/models/sentiment-curated-distilbert/sentiment-en-mix-distillbert_4.pt not found in cache, downloading to C:\\Users\\SJ\\AppData\\Local\\Temp\\tmp0eccipbt\n"
     ]
    },
    {
     "name": "stderr",
     "output_type": "stream",
     "text": [
      "100%|██████████| 253M/253M [00:32<00:00, 8.28MB/s]   "
     ]
    },
    {
     "name": "stdout",
     "output_type": "stream",
     "text": [
      "2025-03-13 18:05:57,626 copying C:\\Users\\SJ\\AppData\\Local\\Temp\\tmp0eccipbt to cache at C:\\Users\\SJ\\.flair\\models\\sentiment-en-mix-distillbert_4.pt\n"
     ]
    },
    {
     "name": "stderr",
     "output_type": "stream",
     "text": [
      "\n"
     ]
    },
    {
     "name": "stdout",
     "output_type": "stream",
     "text": [
      "2025-03-13 18:05:57,949 removing temp file C:\\Users\\SJ\\AppData\\Local\\Temp\\tmp0eccipbt\n"
     ]
    }
   ],
   "source": [
    "from flair.nn import Classifier\n",
    "from flair.data import Sentence\n",
    "\n",
    "ner_tagger = Classifier.load('ner')\n",
    "sentiment_tagger = Classifier.load('sentiment')"
   ]
  },
  {
   "cell_type": "code",
   "execution_count": 34,
   "metadata": {},
   "outputs": [],
   "source": [
    "sentences = [\n",
    "    Sentence(\"Sherlock Holmes told Watson that he should investigate the crime scene.\"),\n",
    "    Sentence(\"Madison Clements sat two rows to my left and two seats back.\"),\n",
    "    Sentence(\"I just put my books away and kept quiet.\"),\n",
    "    Sentence(\"Class ended in five minutes and all I could think was, an hour is too long for lunch.\")\n",
    "]"
   ]
  },
  {
   "cell_type": "code",
   "execution_count": 35,
   "metadata": {},
   "outputs": [],
   "source": [
    "for sentence in sentences:\n",
    "    ner_tagger.predict(sentence)\n",
    "    sentiment_tagger.predict(sentence)"
   ]
  },
  {
   "cell_type": "code",
   "execution_count": 37,
   "metadata": {},
   "outputs": [
    {
     "data": {
      "text/plain": [
       "{'text': 'Class ended in five minutes and all I could think was, an hour is too long for lunch.',\n",
       " 'labels': [{'value': 'NEGATIVE', 'confidence': 0.9302976131439209}],\n",
       " 'entities': [],\n",
       " 'relations': [],\n",
       " 'tokens': [{'text': 'Class', 'start_pos': 0, 'end_pos': 5, 'labels': []},\n",
       "  {'text': 'ended', 'start_pos': 6, 'end_pos': 11, 'labels': []},\n",
       "  {'text': 'in', 'start_pos': 12, 'end_pos': 14, 'labels': []},\n",
       "  {'text': 'five', 'start_pos': 15, 'end_pos': 19, 'labels': []},\n",
       "  {'text': 'minutes', 'start_pos': 20, 'end_pos': 27, 'labels': []},\n",
       "  {'text': 'and', 'start_pos': 28, 'end_pos': 31, 'labels': []},\n",
       "  {'text': 'all', 'start_pos': 32, 'end_pos': 35, 'labels': []},\n",
       "  {'text': 'I', 'start_pos': 36, 'end_pos': 37, 'labels': []},\n",
       "  {'text': 'could', 'start_pos': 38, 'end_pos': 43, 'labels': []},\n",
       "  {'text': 'think', 'start_pos': 44, 'end_pos': 49, 'labels': []},\n",
       "  {'text': 'was', 'start_pos': 50, 'end_pos': 53, 'labels': []},\n",
       "  {'text': ',', 'start_pos': 53, 'end_pos': 54, 'labels': []},\n",
       "  {'text': 'an', 'start_pos': 55, 'end_pos': 57, 'labels': []},\n",
       "  {'text': 'hour', 'start_pos': 58, 'end_pos': 62, 'labels': []},\n",
       "  {'text': 'is', 'start_pos': 63, 'end_pos': 65, 'labels': []},\n",
       "  {'text': 'too', 'start_pos': 66, 'end_pos': 69, 'labels': []},\n",
       "  {'text': 'long', 'start_pos': 70, 'end_pos': 74, 'labels': []},\n",
       "  {'text': 'for', 'start_pos': 75, 'end_pos': 78, 'labels': []},\n",
       "  {'text': 'lunch', 'start_pos': 79, 'end_pos': 84, 'labels': []},\n",
       "  {'text': '.', 'start_pos': 84, 'end_pos': 85, 'labels': []}]}"
      ]
     },
     "execution_count": 37,
     "metadata": {},
     "output_type": "execute_result"
    }
   ],
   "source": [
    "sentences[3].to_dict()"
   ]
  }
 ],
 "metadata": {
  "kernelspec": {
   "display_name": "venv",
   "language": "python",
   "name": "python3"
  },
  "language_info": {
   "codemirror_mode": {
    "name": "ipython",
    "version": 3
   },
   "file_extension": ".py",
   "mimetype": "text/x-python",
   "name": "python",
   "nbconvert_exporter": "python",
   "pygments_lexer": "ipython3",
   "version": "3.10.11"
  }
 },
 "nbformat": 4,
 "nbformat_minor": 2
}
